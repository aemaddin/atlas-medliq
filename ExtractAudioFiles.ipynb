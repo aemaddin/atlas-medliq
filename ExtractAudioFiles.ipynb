{
 "cells": [
  {
   "cell_type": "code",
   "execution_count": 1,
   "metadata": {},
   "outputs": [],
   "source": [
    "import os\n",
    "import shutil\n",
    "import requests"
   ]
  },
  {
   "cell_type": "code",
   "execution_count": 2,
   "metadata": {},
   "outputs": [],
   "source": [
    "APIKEY = os.environ['AIRTABLE_APIKEY']\n",
    "BASE = 'appfJRhs6ZsWF5OtU'\n",
    "AIRTABLE = 'https://api.airtable.com/v0'\n",
    "FILENAME = 'asset.mp4'\n",
    "OUTDIR = 'm3-assets'"
   ]
  },
  {
   "cell_type": "code",
   "execution_count": 3,
   "metadata": {},
   "outputs": [],
   "source": [
    "def fetch(table, rid=None):\n",
    "    if rid is None:\n",
    "        ret = requests.get(f'{AIRTABLE}/{BASE}/{table}?view=website', headers=dict(Authorization=f'Bearer {APIKEY}')).json()\n",
    "        return [dict(**r['fields'], __id=r['id']) for r in ret['records']]\n",
    "    else:\n",
    "        ret = requests.get(f'{AIRTABLE}/{BASE}/{table}/{rid}', headers=dict(Authorization=f'Bearer {APIKEY}')).json()\n",
    "        return ret['fields']"
   ]
  },
  {
   "cell_type": "code",
   "execution_count": 4,
   "metadata": {},
   "outputs": [],
   "source": [
    "os.makedirs(OUTDIR, exist_ok=True)\n",
    "asset_filename = os.path.join(OUTDIR, FILENAME)\n",
    "if not os.path.exists(asset_filename):\n",
    "    assets = fetch('Assets')\n",
    "    asset = assets[0]['Attachments'][0]['url']\n",
    "    with open(asset_filename, 'wb') as dst:\n",
    "        src = requests.get(asset, stream=True).raw\n",
    "        shutil.copyfileobj(src, dst)\n"
   ]
  },
  {
   "cell_type": "code",
   "execution_count": 5,
   "metadata": {},
   "outputs": [
    {
     "data": {
      "text/plain": [
       "2600.71"
      ]
     },
     "execution_count": 5,
     "metadata": {},
     "output_type": "execute_result"
    }
   ],
   "source": [
    "from moviepy.video.io.VideoFileClip import VideoFileClip\n",
    "a = VideoFileClip(asset_filename).audio\n",
    "a.duration"
   ]
  },
  {
   "cell_type": "code",
   "execution_count": 6,
   "metadata": {},
   "outputs": [
    {
     "name": "stderr",
     "output_type": "stream",
     "text": [
      "chunk:  11%|█         | 70/640 [00:00<00:00, 699.23it/s, now=None]"
     ]
    },
    {
     "name": "stdout",
     "output_type": "stream",
     "text": [
      "m3-assets/0: Introduction.mp3 [{'start': 173, 'Segments': ['rec87KZtPi30jJ1Zl'], 'ID': 'intro', 'Elements': ['hope', 'concern', '145m high walls', 'The Grand Ethiopian Renneissance Dam', '#GERD', 'Operational', \"Ethiopia's rights\", 'July 2021', 'Unilateral', 'Anger', 'Confusion', 'Egyptian', 'Sudanese', 'neighbors', 'Access to water'], 'end': 202, 'length': 29, 'Field 10': [{'id': 'attIdtHOmKmqhC3eZ', 'url': 'https://dl.airtable.com/.attachments/966723912f72f6d1078cc5528a54d61f/c26b9cc1/020Introduction.mp3', 'filename': '0:%20Introduction.mp3', 'size': 465023, 'type': 'audio/mpeg'}], 'MapViews': ['recMZ2EGCa81mhync'], 'Designer': {'id': 'usr54zGDq4Jsbqxlj', 'email': 'guy@shual.com', 'name': 'Guy Saggee'}}]\n",
      "<moviepy.audio.io.AudioFileClip.AudioFileClip object at 0x128ae6510>\n",
      "<moviepy.audio.io.AudioFileClip.AudioFileClip object at 0x129b31f10> <module 'moviepy.audio.fx.audio_fadein' from '/Users/adam/.pyenv/versions/3.7.8/lib/python3.7/site-packages/moviepy/audio/fx/audio_fadein.py'>\n",
      "MoviePy - Writing audio in m3-assets/0: Introduction.mp3\n"
     ]
    },
    {
     "name": "stderr",
     "output_type": "stream",
     "text": [
      "                                                                    \r"
     ]
    },
    {
     "name": "stdout",
     "output_type": "stream",
     "text": [
      "MoviePy - Done.\n"
     ]
    },
    {
     "name": "stderr",
     "output_type": "stream",
     "text": [
      "chunk:   9%|▉         | 80/883 [00:00<00:01, 799.39it/s, now=None]"
     ]
    },
    {
     "name": "stdout",
     "output_type": "stream",
     "text": [
      "m3-assets/1: M.F - filling time.mp3 [{'start': 387, 'Segments': ['rec8EVlGn7d2dT4JS'], 'ID': 'MF1', 'Elements': [\"Ethiopia's rights\", 'the details', 'filling time', 'vulnerable to the nile', 'respect', 'need for development', 'dependency on water', \"Ethiopia's right for development\", \"Egypt's dependency on water\"], 'end': 427, 'length': 40, 'Field 10': [{'id': 'attYYU0fx3ukMM3j4', 'url': 'https://dl.airtable.com/.attachments/d66cb7ec54085510efb3ab7d5cb9f7ac/882ec6aa/120M.F20-20filling20time.mp3', 'filename': '1:%20M.F%20-%20filling%20time.mp3', 'size': 640984, 'type': 'audio/mpeg'}], 'MapViews': ['recTboUZhMqtMQhiq'], 'Designer': {'id': 'usr54zGDq4Jsbqxlj', 'email': 'guy@shual.com', 'name': 'Guy Saggee'}}]\n",
      "<moviepy.audio.io.AudioFileClip.AudioFileClip object at 0x129ba2d50>\n",
      "<moviepy.audio.io.AudioFileClip.AudioFileClip object at 0x128ae6310> <module 'moviepy.audio.fx.audio_fadein' from '/Users/adam/.pyenv/versions/3.7.8/lib/python3.7/site-packages/moviepy/audio/fx/audio_fadein.py'>\n",
      "MoviePy - Writing audio in m3-assets/1: M.F - filling time.mp3\n"
     ]
    },
    {
     "name": "stderr",
     "output_type": "stream",
     "text": [
      "                                                                    \r"
     ]
    },
    {
     "name": "stdout",
     "output_type": "stream",
     "text": [
      "MoviePy - Done.\n"
     ]
    },
    {
     "name": "stderr",
     "output_type": "stream",
     "text": [
      "chunk:   4%|▍         | 84/2095 [00:00<00:02, 838.92it/s, now=None]"
     ]
    },
    {
     "name": "stdout",
     "output_type": "stream",
     "text": [
      "m3-assets/2: M.M - The real issue: Egypt control over the Nile & 11 countries.mp3 [{'start': 499, 'Segments': ['rec0JCD9libgKLFv3'], 'ID': 'MM1.1', 'Elements': ['the issue is more political', 'hegemony', 'control', 'Relenquencing the hegemony and control that Egypt has on the Nile'], 'end': 527, 'length': 28, 'Field 10': [{'id': 'attj6EfGIoWqD76kJ', 'url': 'https://dl.airtable.com/.attachments/c8494b17148c962662e037c9cf490b05/9a14a64c/220M.M20-20The20real20issue20Egypt20control20over20the20Nile20201120countries.mp3', 'filename': '2:%20M.M%20-%20The%20real%20issue:%20Egypt%20control%20over%20the%20Nile%20&%2011%20countries.mp3', 'size': 1504906, 'type': 'audio/mpeg'}], 'Designer': {'id': 'usr54zGDq4Jsbqxlj', 'email': 'guy@shual.com', 'name': 'Guy Saggee'}}, {'start': 558, 'Segments': ['rec0JCD9libgKLFv3'], 'ID': 'MM1.2', 'Elements': ['filling the dam', 'status quo', 'colonial agreements', '2 countries', '11 countries', 'skewed agreements'], 'end': 625, 'length': 67, 'Field 10': [{'id': 'attj6EfGIoWqD76kJ', 'url': 'https://dl.airtable.com/.attachments/c8494b17148c962662e037c9cf490b05/9a14a64c/220M.M20-20The20real20issue20Egypt20control20over20the20Nile20201120countries.mp3', 'filename': '2:%20M.M%20-%20The%20real%20issue:%20Egypt%20control%20over%20the%20Nile%20&%2011%20countries.mp3', 'size': 1504906, 'type': 'audio/mpeg'}], 'Designer': {'id': 'usr54zGDq4Jsbqxlj', 'email': 'guy@shual.com', 'name': 'Guy Saggee'}}]\n",
      "<moviepy.audio.io.AudioFileClip.AudioFileClip object at 0x129bef950>\n",
      "<moviepy.audio.io.AudioFileClip.AudioFileClip object at 0x129bef690> <module 'moviepy.audio.fx.audio_fadein' from '/Users/adam/.pyenv/versions/3.7.8/lib/python3.7/site-packages/moviepy/audio/fx/audio_fadein.py'>\n",
      "<moviepy.audio.io.AudioFileClip.AudioFileClip object at 0x129bf6150>\n",
      "<moviepy.audio.io.AudioFileClip.AudioFileClip object at 0x129bf6a90> <module 'moviepy.audio.fx.audio_fadein' from '/Users/adam/.pyenv/versions/3.7.8/lib/python3.7/site-packages/moviepy/audio/fx/audio_fadein.py'>\n",
      "MoviePy - Writing audio in m3-assets/2: M.M - The real issue: Egypt control over the Nile & 11 countries.mp3\n"
     ]
    },
    {
     "name": "stderr",
     "output_type": "stream",
     "text": [
      "                                                                      \r"
     ]
    },
    {
     "name": "stdout",
     "output_type": "stream",
     "text": [
      "MoviePy - Done.\n"
     ]
    },
    {
     "name": "stderr",
     "output_type": "stream",
     "text": [
      "chunk:   6%|▋         | 166/2647 [00:00<00:01, 1658.67it/s, now=None]"
     ]
    },
    {
     "name": "stdout",
     "output_type": "stream",
     "text": [
      "m3-assets/3: W.D - why is it coming to a head now & Drought and climate.mp3 [{'start': 635, 'Segments': ['recQCSe9OBmE1uS0E'], 'ID': 'WD1.1', 'Elements': ['filling the dam', 'agreement', \"Ethiopia's rights\", 'filling time', 'drought', 'responsibility', '#GERD', 'dispute'], 'end': 731, 'length': 96, 'Field 10': [{'id': 'attGzh2gwLMdr29z9', 'url': 'https://dl.airtable.com/.attachments/f0be512b5a0ff6318839c6bd05ad602a/1abba6ea/320W.D20-20why20is20it20coming20to20a20head20now2020Drought20and20climate.mp3', 'filename': '3:%20W.D%20-%20why%20is%20it%20coming%20to%20a%20head%20now%20&%20Drought%20and%20climate.mp3', 'size': 2192866, 'type': 'audio/mpeg'}], 'Designer': {'id': 'usr54zGDq4Jsbqxlj', 'email': 'guy@shual.com', 'name': 'Guy Saggee'}}, {'start': 766, 'Segments': ['recQCSe9OBmE1uS0E'], 'ID': 'WD1.2', 'Elements': ['climate change', '#GERD', 'climatic volatility'], 'end': 790, 'length': 24, 'Field 10': [{'id': 'attGzh2gwLMdr29z9', 'url': 'https://dl.airtable.com/.attachments/f0be512b5a0ff6318839c6bd05ad602a/1abba6ea/320W.D20-20why20is20it20coming20to20a20head20now2020Drought20and20climate.mp3', 'filename': '3:%20W.D%20-%20why%20is%20it%20coming%20to%20a%20head%20now%20&%20Drought%20and%20climate.mp3', 'size': 2192866, 'type': 'audio/mpeg'}], 'Designer': {'id': 'usr54zGDq4Jsbqxlj', 'email': 'guy@shual.com', 'name': 'Guy Saggee'}}]\n",
      "<moviepy.audio.io.AudioFileClip.AudioFileClip object at 0x129ba2950>\n",
      "<moviepy.audio.io.AudioFileClip.AudioFileClip object at 0x129befcd0> <module 'moviepy.audio.fx.audio_fadein' from '/Users/adam/.pyenv/versions/3.7.8/lib/python3.7/site-packages/moviepy/audio/fx/audio_fadein.py'>\n",
      "<moviepy.audio.io.AudioFileClip.AudioFileClip object at 0x129bf6850>\n",
      "<moviepy.audio.io.AudioFileClip.AudioFileClip object at 0x129bf6590> <module 'moviepy.audio.fx.audio_fadein' from '/Users/adam/.pyenv/versions/3.7.8/lib/python3.7/site-packages/moviepy/audio/fx/audio_fadein.py'>\n",
      "MoviePy - Writing audio in m3-assets/3: W.D - why is it coming to a head now & Drought and climate.mp3\n"
     ]
    },
    {
     "name": "stderr",
     "output_type": "stream",
     "text": [
      "                                                                      \r"
     ]
    },
    {
     "name": "stdout",
     "output_type": "stream",
     "text": [
      "MoviePy - Done.\n"
     ]
    },
    {
     "name": "stderr",
     "output_type": "stream",
     "text": [
      "chunk:   4%|▎         | 97/2669 [00:00<00:02, 967.74it/s, now=None]"
     ]
    },
    {
     "name": "stdout",
     "output_type": "stream",
     "text": [
      "m3-assets/4: M.S - the role of Sudan & negotiations, not war.mp3 [{'start': 898, 'Segments': ['rec1bnvXnTYogDos2'], 'ID': 'MS1.1', 'Elements': ['Sudan', 'mitigate the conflict', 'Covid-19', 'caught in between', 'water sharing', 'electricity', 'mediation'], 'end': 974, 'length': 76, 'Field 10': [{'id': 'attZuNyqtK7E6K6ru', 'url': 'https://dl.airtable.com/.attachments/33bf1d5a11791fb7c27c8e8379193617/eaa5ae03/420M.S20-20the20role20of20Sudan2020negotiations20not20war.mp3', 'filename': '4:%20M.S%20-%20the%20role%20of%20Sudan%20&%20negotiations,%20not%20war.mp3', 'size': 1937075, 'type': 'audio/mpeg'}], 'Designer': {'id': 'usr54zGDq4Jsbqxlj', 'email': 'guy@shual.com', 'name': 'Guy Saggee'}}, {'start': 977, 'Segments': ['rec1bnvXnTYogDos2'], 'ID': 'MS1.2', 'Elements': ['negotiations', 'war', 'cairo', 'adis ababa'], 'end': 1022, 'length': 45, 'Field 10': [{'id': 'attZuNyqtK7E6K6ru', 'url': 'https://dl.airtable.com/.attachments/33bf1d5a11791fb7c27c8e8379193617/eaa5ae03/420M.S20-20the20role20of20Sudan2020negotiations20not20war.mp3', 'filename': '4:%20M.S%20-%20the%20role%20of%20Sudan%20&%20negotiations,%20not%20war.mp3', 'size': 1937075, 'type': 'audio/mpeg'}], 'Designer': {'id': 'usr54zGDq4Jsbqxlj', 'email': 'guy@shual.com', 'name': 'Guy Saggee'}}]\n",
      "<moviepy.audio.io.AudioFileClip.AudioFileClip object at 0x129b16550>\n",
      "<moviepy.audio.io.AudioFileClip.AudioFileClip object at 0x129bf6290> <module 'moviepy.audio.fx.audio_fadein' from '/Users/adam/.pyenv/versions/3.7.8/lib/python3.7/site-packages/moviepy/audio/fx/audio_fadein.py'>\n",
      "<moviepy.audio.io.AudioFileClip.AudioFileClip object at 0x129bf6310>\n",
      "<moviepy.audio.io.AudioFileClip.AudioFileClip object at 0x129c1c5d0> <module 'moviepy.audio.fx.audio_fadein' from '/Users/adam/.pyenv/versions/3.7.8/lib/python3.7/site-packages/moviepy/audio/fx/audio_fadein.py'>\n",
      "MoviePy - Writing audio in m3-assets/4: M.S - the role of Sudan & negotiations, not war.mp3\n"
     ]
    },
    {
     "name": "stderr",
     "output_type": "stream",
     "text": [
      "                                                                      \r"
     ]
    },
    {
     "name": "stdout",
     "output_type": "stream",
     "text": [
      "MoviePy - Done.\n"
     ]
    },
    {
     "name": "stderr",
     "output_type": "stream",
     "text": [
      "chunk:  12%|█▏        | 86/706 [00:00<00:00, 856.01it/s, now=None]"
     ]
    },
    {
     "name": "stdout",
     "output_type": "stream",
     "text": [
      "m3-assets/5: M.S - 22B cube.mp3 [{'start': 1302, 'Segments': ['recioLkpwMwfTdmyv'], 'ID': 'MS2', 'Elements': ['existential threat', 'agreement', '30% loss', 'agriculture land', '12 million people', 'water insecure', 'UNDB', '2% loss in Egyptian water share', '1 million Egyptians effected', '22 billion cubic water', 'HUGE'], 'end': 1334, 'length': 32, 'Field 10': [{'id': 'attiuldUjfdhhistP', 'url': 'https://dl.airtable.com/.attachments/7d4b3e0c7ac131ba087f78e7601f4c92/3070ab8d/520M.S20-2022B20cube.mp3', 'filename': '5:%20M.S%20-%2022B%20cube.mp3', 'size': 512670, 'type': 'audio/mpeg'}], 'Designer': {'id': 'usrQqtWKSsh2w24el', 'email': 'mushonitp@gmail.com', 'name': 'Mushon Zer-Aviv'}}]\n",
      "<moviepy.audio.io.AudioFileClip.AudioFileClip object at 0x129befe90>\n",
      "<moviepy.audio.io.AudioFileClip.AudioFileClip object at 0x129c1ce10> <module 'moviepy.audio.fx.audio_fadein' from '/Users/adam/.pyenv/versions/3.7.8/lib/python3.7/site-packages/moviepy/audio/fx/audio_fadein.py'>\n",
      "MoviePy - Writing audio in m3-assets/5: M.S - 22B cube.mp3\n"
     ]
    },
    {
     "name": "stderr",
     "output_type": "stream",
     "text": [
      "                                                                    \r"
     ]
    },
    {
     "name": "stdout",
     "output_type": "stream",
     "text": [
      "MoviePy - Done.\n"
     ]
    },
    {
     "name": "stderr",
     "output_type": "stream",
     "text": [
      "chunk:   3%|▎         | 84/2404 [00:00<00:02, 839.73it/s, now=None]"
     ]
    },
    {
     "name": "stdout",
     "output_type": "stream",
     "text": [
      "m3-assets/6:M.M - Existential issue.mp3 [{'start': 1371, 'Segments': ['recEfJ8LxWnBO80q9'], 'ID': 'M.M2.1', 'Elements': ['>%70 water resources', '2/3 of irregation and hydropower', 'Electricity access: <%40', 'Sanitation Water Access: <%30', 'Food & Water security - X', 'Basic Necessities', 'The Nile is as Existential to Ethiopians as it is to Egyptians', 'status quo'], 'end': 1442, 'length': 71, 'Field 10': [{'id': 'attaJPoJujgDSvVAP', 'url': 'https://dl.airtable.com/.attachments/946b62d938bff14ecb179b9e9ee81905/26469640/6M.M20-20Existential20issue.mp3', 'filename': '6:M.M%20-%20Existential%20issue.mp3', 'size': 2016906, 'type': 'audio/mpeg'}], 'Designer': {'id': 'usrQqtWKSsh2w24el', 'email': 'mushonitp@gmail.com', 'name': 'Mushon Zer-Aviv'}}, {'start': 1505, 'Segments': ['recEfJ8LxWnBO80q9'], 'ID': 'M.M2.2', 'Elements': ['Water allocation scheme', '1959', 'Entitles these 2 countries to the whole of the Nile waters', 'Historical Injustice', 'Equitable & Reasonable', 'Share increasing or decreasing'], 'end': 1543, 'length': 38, 'Field 10': [{'id': 'attaJPoJujgDSvVAP', 'url': 'https://dl.airtable.com/.attachments/946b62d938bff14ecb179b9e9ee81905/26469640/6M.M20-20Existential20issue.mp3', 'filename': '6:M.M%20-%20Existential%20issue.mp3', 'size': 2016906, 'type': 'audio/mpeg'}], 'Designer': {'id': 'usrQqtWKSsh2w24el', 'email': 'mushonitp@gmail.com', 'name': 'Mushon Zer-Aviv'}}]\n",
      "<moviepy.audio.io.AudioFileClip.AudioFileClip object at 0x129bf62d0>\n",
      "<moviepy.audio.io.AudioFileClip.AudioFileClip object at 0x129bef7d0> <module 'moviepy.audio.fx.audio_fadein' from '/Users/adam/.pyenv/versions/3.7.8/lib/python3.7/site-packages/moviepy/audio/fx/audio_fadein.py'>\n",
      "<moviepy.audio.io.AudioFileClip.AudioFileClip object at 0x129c2e590>\n",
      "<moviepy.audio.io.AudioFileClip.AudioFileClip object at 0x129c2e890> <module 'moviepy.audio.fx.audio_fadein' from '/Users/adam/.pyenv/versions/3.7.8/lib/python3.7/site-packages/moviepy/audio/fx/audio_fadein.py'>\n",
      "MoviePy - Writing audio in m3-assets/6:M.M - Existential issue.mp3\n"
     ]
    },
    {
     "name": "stderr",
     "output_type": "stream",
     "text": [
      "                                                                      \r"
     ]
    },
    {
     "name": "stdout",
     "output_type": "stream",
     "text": [
      "MoviePy - Done.\n"
     ]
    },
    {
     "name": "stderr",
     "output_type": "stream",
     "text": [
      "chunk:   5%|▍         | 51/1125 [00:00<00:02, 508.40it/s, now=None]"
     ]
    },
    {
     "name": "stdout",
     "output_type": "stream",
     "text": [
      "m3-assets/7: M.F - historical & colonial.mp3 [{'start': 1590, 'Segments': ['recVB9ChdMZ7xbs5J'], 'ID': 'MF2.1', 'Elements': ['Ethiopian discourse', 'frameworks', '1902 treaty'], 'end': 1620, 'length': 30, 'Field 10': [{'id': 'att97rmB1mBGXLVQT', 'url': 'https://dl.airtable.com/.attachments/1e61f09fc497167083f175edbc1efbbd/8c8ab506/720M.F20-20historical2020colonial.mp3', 'filename': '7:%20M.F%20-%20historical%20&%20colonial.mp3', 'size': 1072736, 'type': 'audio/mpeg'}], 'Designer': {'id': 'usrQqtWKSsh2w24el', 'email': 'mushonitp@gmail.com', 'name': 'Mushon Zer-Aviv'}}, {'start': 1657, 'Segments': ['recVB9ChdMZ7xbs5J'], 'ID': 'MF2.2', 'Elements': ['Legal', 'Renegotiating historical agreements', 'Taking the Nile hostage'], 'end': 1678, 'length': 21, 'Field 10': [{'id': 'att97rmB1mBGXLVQT', 'url': 'https://dl.airtable.com/.attachments/1e61f09fc497167083f175edbc1efbbd/8c8ab506/720M.F20-20historical2020colonial.mp3', 'filename': '7:%20M.F%20-%20historical%20&%20colonial.mp3', 'size': 1072736, 'type': 'audio/mpeg'}], 'Designer': {'id': 'usrQqtWKSsh2w24el', 'email': 'mushonitp@gmail.com', 'name': 'Mushon Zer-Aviv'}}]\n",
      "<moviepy.audio.io.AudioFileClip.AudioFileClip object at 0x128b32c10>\n",
      "<moviepy.audio.io.AudioFileClip.AudioFileClip object at 0x129bf6b10> <module 'moviepy.audio.fx.audio_fadein' from '/Users/adam/.pyenv/versions/3.7.8/lib/python3.7/site-packages/moviepy/audio/fx/audio_fadein.py'>\n",
      "<moviepy.audio.io.AudioFileClip.AudioFileClip object at 0x129c2e9d0>\n",
      "<moviepy.audio.io.AudioFileClip.AudioFileClip object at 0x129c42650> <module 'moviepy.audio.fx.audio_fadein' from '/Users/adam/.pyenv/versions/3.7.8/lib/python3.7/site-packages/moviepy/audio/fx/audio_fadein.py'>\n",
      "MoviePy - Writing audio in m3-assets/7: M.F - historical & colonial.mp3\n"
     ]
    },
    {
     "name": "stderr",
     "output_type": "stream",
     "text": [
      "                                                                      \r"
     ]
    },
    {
     "name": "stdout",
     "output_type": "stream",
     "text": [
      "MoviePy - Done.\n"
     ]
    },
    {
     "name": "stderr",
     "output_type": "stream",
     "text": [
      "chunk:   8%|▊         | 73/883 [00:00<00:01, 729.36it/s, now=None]"
     ]
    },
    {
     "name": "stdout",
     "output_type": "stream",
     "text": [
      "m3-assets/8: W.D - the GERD (dam) is a non consumptive project.mp3 [{'start': 1713, 'Segments': ['recbS0Zz1x4hcZJze'], 'ID': 'WD2', 'Elements': ['agricultural losses', 'drought', 'sufficient water in the Asuan Dam', 'non-consumptive project', '#GERD'], 'end': 1753, 'length': 40, 'Field 10': [{'id': 'attqJunk6u8vZJF1K', 'url': 'https://dl.airtable.com/.attachments/9d4ec81356f97866de7191d442b11f54/4d2288ee/820W.D20-20the20GERD20dam20is20a20non20consumptive20project.mp3', 'filename': '8:%20W.D%20-%20the%20GERD%20(dam)%20is%20a%20non%20consumptive%20project.mp3', 'size': 640984, 'type': 'audio/mpeg'}], 'Designer': {'id': 'usrQqtWKSsh2w24el', 'email': 'mushonitp@gmail.com', 'name': 'Mushon Zer-Aviv'}}]\n",
      "<moviepy.audio.io.AudioFileClip.AudioFileClip object at 0x129c2eb10>\n",
      "<moviepy.audio.io.AudioFileClip.AudioFileClip object at 0x129c2e4d0> <module 'moviepy.audio.fx.audio_fadein' from '/Users/adam/.pyenv/versions/3.7.8/lib/python3.7/site-packages/moviepy/audio/fx/audio_fadein.py'>\n",
      "MoviePy - Writing audio in m3-assets/8: W.D - the GERD (dam) is a non consumptive project.mp3\n"
     ]
    },
    {
     "name": "stderr",
     "output_type": "stream",
     "text": [
      "                                                                    \r"
     ]
    },
    {
     "name": "stdout",
     "output_type": "stream",
     "text": [
      "MoviePy - Done.\n"
     ]
    },
    {
     "name": "stderr",
     "output_type": "stream",
     "text": [
      "chunk:   7%|▋         | 74/1081 [00:00<00:01, 739.18it/s, now=None]"
     ]
    },
    {
     "name": "stdout",
     "output_type": "stream",
     "text": [
      "m3-assets/9: M.M - sustainable water use.mp3 [{'start': 2378, 'Segments': ['recRHwbH2s13FsQmq'], 'ID': 'MM3', 'Elements': ['unilaterally', 'not enough water', 'status quo', 'doesnt serve us anymore', 'population increase', 'climate change', 'increase in water demand', \"it's happening everywhere\", \"it's not going to stay between the 3 countries\", 'sustainable water use mechanism', 'for the whole besin as a whole'], 'end': 2427, 'length': 49, 'Field 10': [{'id': 'attvyCOMZyUKrYpX2', 'url': 'https://dl.airtable.com/.attachments/46f3894c52f8030bef8ccd8556e7e18d/6727a52c/920M.M20-20sustainable20water20use.mp3', 'filename': '9:%20M.M%20-%20sustainable%20water%20use.mp3', 'size': 865010, 'type': 'audio/mpeg'}], 'Designer': {'id': 'usrQqtWKSsh2w24el', 'email': 'mushonitp@gmail.com', 'name': 'Mushon Zer-Aviv'}}]\n",
      "<moviepy.audio.io.AudioFileClip.AudioFileClip object at 0x129b16550>\n",
      "<moviepy.audio.io.AudioFileClip.AudioFileClip object at 0x129c1c6d0> <module 'moviepy.audio.fx.audio_fadein' from '/Users/adam/.pyenv/versions/3.7.8/lib/python3.7/site-packages/moviepy/audio/fx/audio_fadein.py'>\n",
      "MoviePy - Writing audio in m3-assets/9: M.M - sustainable water use.mp3\n"
     ]
    },
    {
     "name": "stderr",
     "output_type": "stream",
     "text": [
      "                                                                      "
     ]
    },
    {
     "name": "stdout",
     "output_type": "stream",
     "text": [
      "MoviePy - Done.\n"
     ]
    },
    {
     "name": "stderr",
     "output_type": "stream",
     "text": [
      "\r"
     ]
    }
   ],
   "source": [
    "from moviepy.audio.AudioClip import CompositeAudioClip\n",
    "import moviepy.audio.fx.all as afx\n",
    "import moviepy.editor as editor\n",
    "\n",
    "\n",
    "segments = fetch('Segment')\n",
    "for segment in segments:\n",
    "    out_filename = os.path.join(OUTDIR, f\"{segment['Title']}.mp3\")\n",
    "    timestamps = [fetch('AudioTimestamps', rid) for rid in segment['AudioTimestamps']]\n",
    "    timestamps = [t for t in timestamps if t['length']]\n",
    "    print(out_filename, timestamps)\n",
    "    clips = []\n",
    "    for timestamp in timestamps:\n",
    "        clip = a.copy()\n",
    "        print(clip)\n",
    "        clip = clip.subclip(timestamp['start'], timestamp['end'])\n",
    "        print(clip, afx.fx.audio_fadein)\n",
    "        clip = clip.fx( afx.audio_fadein, 0.5)\\\n",
    "                   .fx( afx.audio_fadeout, 0.5)\n",
    "        clips.append(clip)\n",
    "    clip = editor.concatenate_audioclips(clips)\n",
    "    clip.write_audiofile(out_filename)\n",
    "    "
   ]
  },
  {
   "cell_type": "code",
   "execution_count": 7,
   "metadata": {},
   "outputs": [
    {
     "name": "stdout",
     "output_type": "stream",
     "text": [
      "On branch master\n",
      "Your branch is up to date with 'origin/master'.\n",
      "\n",
      "Changes not staged for commit:\n",
      "  (use \"git add <file>...\" to update what will be committed)\n",
      "  (use \"git restore <file>...\" to discard changes in working directory)\n",
      "\tmodified:   ExtractAudioFiles.ipynb\n",
      "\n",
      "Untracked files:\n",
      "  (use \"git add <file>...\" to include in what will be committed)\n",
      "\t.ipynb_checkpoints/\n",
      "\t.vscode/\n",
      "\n",
      "no changes added to commit (use \"git add\" and/or \"git commit -a\")\n",
      "On branch master\n",
      "Your branch is up to date with 'origin/master'.\n",
      "\n",
      "Changes not staged for commit:\n",
      "\tmodified:   ExtractAudioFiles.ipynb\n",
      "\n",
      "Untracked files:\n",
      "\t.ipynb_checkpoints/\n",
      "\t.vscode/\n",
      "\n",
      "no changes added to commit\n"
     ]
    },
    {
     "name": "stderr",
     "output_type": "stream",
     "text": [
      "Everything up-to-date\n"
     ]
    }
   ],
   "source": [
    "%%bash\n",
    "git add m3-assets/\n",
    "git status\n",
    "git commit -m \"Update M3 sound assets\"\n",
    "git push"
   ]
  },
  {
   "cell_type": "code",
   "execution_count": 10,
   "metadata": {},
   "outputs": [
    {
     "name": "stdout",
     "output_type": "stream",
     "text": [
      "{'id': 'atty1Bpcd7meYyjkQ', 'url': 'https://raw.githubusercontent.com/akariv/atlas-medliq/master/m3-assets/0: Introduction.mp3#1609084215.338002', 'filename': '0:%20Introduction.mp3'}\n",
      "{'id': 'attAzrqcCYb3M9QNI', 'url': 'https://raw.githubusercontent.com/akariv/atlas-medliq/master/m3-assets/1: M.F - filling time.mp3#1609084215.338002', 'filename': '1:%20M.F%20-%20filling%20time.mp3'}\n",
      "{'id': 'attxeJ52W3pzPzo42', 'url': 'https://raw.githubusercontent.com/akariv/atlas-medliq/master/m3-assets/2: M.M - The real issue: Egypt control over the Nile & 11 countries.mp3#1609084215.338002', 'filename': '2:%20M.M%20-%20The%20real%20issue:%20Egypt%20control%20over%20the%20Nile%20&%2011%20countries.mp3'}\n",
      "{'id': 'attBFdvggrJoHmZhe', 'url': 'https://raw.githubusercontent.com/akariv/atlas-medliq/master/m3-assets/3: W.D - why is it coming to a head now & Drought and climate.mp3#1609084215.338002', 'filename': '3:%20W.D%20-%20why%20is%20it%20coming%20to%20a%20head%20now%20&%20Drought%20and%20climate.mp3'}\n",
      "{'id': 'attSDtDRm8Utyqdek', 'url': 'https://raw.githubusercontent.com/akariv/atlas-medliq/master/m3-assets/4: M.S - the role of Sudan & negotiations, not war.mp3#1609084215.338002', 'filename': '4:%20M.S%20-%20the%20role%20of%20Sudan%20&%20negotiations,%20not%20war.mp3'}\n",
      "{'id': 'attwDXuTP1fgQbKhx', 'url': 'https://raw.githubusercontent.com/akariv/atlas-medliq/master/m3-assets/5: M.S - 22B cube.mp3#1609084215.338002', 'filename': '5:%20M.S%20-%2022B%20cube.mp3'}\n",
      "{'id': 'attIkmEEJ5ty37Usd', 'url': 'https://raw.githubusercontent.com/akariv/atlas-medliq/master/m3-assets/6:M.M - Existential issue.mp3#1609084215.338002', 'filename': '6:M.M%20-%20Existential%20issue.mp3'}\n",
      "{'id': 'attGBXAxMAYQCbOjZ', 'url': 'https://raw.githubusercontent.com/akariv/atlas-medliq/master/m3-assets/7: M.F - historical & colonial.mp3#1609084215.338002', 'filename': '7:%20M.F%20-%20historical%20&%20colonial.mp3'}\n",
      "{'id': 'attOqTMyrS8VfNWaq', 'url': 'https://raw.githubusercontent.com/akariv/atlas-medliq/master/m3-assets/8: W.D - the GERD (dam) is a non consumptive project.mp3#1609084215.338002', 'filename': '8:%20W.D%20-%20the%20GERD%20(dam)%20is%20a%20non%20consumptive%20project.mp3'}\n",
      "{'id': 'atttBCraBXNxOaAwT', 'url': 'https://raw.githubusercontent.com/akariv/atlas-medliq/master/m3-assets/9: M.M - sustainable water use.mp3#1609084215.338002', 'filename': '9:%20M.M%20-%20sustainable%20water%20use.mp3'}\n"
     ]
    }
   ],
   "source": [
    "import time\n",
    "cb = str(time.time())\n",
    "\n",
    "for segment in segments:\n",
    "    url = f'https://raw.githubusercontent.com/akariv/atlas-medliq/master/m3-assets/{segment[\"Title\"]}.mp3#{cb}'\n",
    "    null_request = dict(\n",
    "        records=[dict(\n",
    "            id=segment['__id'],\n",
    "            fields=dict(\n",
    "                audio=[]\n",
    "            )\n",
    "        )]\n",
    "    )\n",
    "    full_request = dict(\n",
    "        records=[dict(\n",
    "            id=segment['__id'],\n",
    "            fields=dict(\n",
    "                audio=[dict(\n",
    "                    url=url\n",
    "                )]\n",
    "            )\n",
    "        )]\n",
    "    )\n",
    "    resp = requests.patch('https://api.airtable.com/v0/appfJRhs6ZsWF5OtU/Segment',\n",
    "                           json=null_request, \n",
    "                           headers=dict(Authorization=f'Bearer {APIKEY}'))\n",
    "    resp = requests.patch('https://api.airtable.com/v0/appfJRhs6ZsWF5OtU/Segment',\n",
    "                           json=full_request, \n",
    "                           headers=dict(Authorization=f'Bearer {APIKEY}'))\n",
    "    print(resp.json()['records'][0]['fields']['audio'][0])\n"
   ]
  },
  {
   "cell_type": "code",
   "execution_count": null,
   "metadata": {},
   "outputs": [],
   "source": []
  }
 ],
 "metadata": {
  "kernelspec": {
   "display_name": "Python 3",
   "language": "python",
   "name": "python3"
  },
  "language_info": {
   "codemirror_mode": {
    "name": "ipython",
    "version": 3
   },
   "file_extension": ".py",
   "mimetype": "text/x-python",
   "name": "python",
   "nbconvert_exporter": "python",
   "pygments_lexer": "ipython3",
   "version": "3.7.8"
  }
 },
 "nbformat": 4,
 "nbformat_minor": 4
}
