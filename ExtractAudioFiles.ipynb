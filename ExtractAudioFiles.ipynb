{
 "cells": [
  {
   "cell_type": "code",
   "execution_count": 51,
   "metadata": {},
   "outputs": [],
   "source": [
    "import os\n",
    "import shutil\n",
    "import requests"
   ]
  },
  {
   "cell_type": "code",
   "execution_count": 52,
   "metadata": {},
   "outputs": [],
   "source": [
    "BASE = 'appfJRhs6ZsWF5OtU'\n",
    "AIRTABLE = 'https://api.airtable.com/v0'\n",
    "APIKEY = 'key7jIbxK4zBiOYDr'\n",
    "FILENAME = 'asset.mp4'\n",
    "OUTDIR = 'm3-assets'"
   ]
  },
  {
   "cell_type": "code",
   "execution_count": 57,
   "metadata": {},
   "outputs": [],
   "source": [
    "def fetch(table, rid=None):\n",
    "    if rid is None:\n",
    "        ret = requests.get(f'{AIRTABLE}/{BASE}/{table}?view=website', headers=dict(Authorization=f'Bearer {APIKEY}')).json()\n",
    "        return [r['fields'] for r in ret['records']]\n",
    "    else:\n",
    "        ret = requests.get(f'{AIRTABLE}/{BASE}/{table}/{rid}', headers=dict(Authorization=f'Bearer {APIKEY}')).json()\n",
    "        return ret['fields']"
   ]
  },
  {
   "cell_type": "code",
   "execution_count": 58,
   "metadata": {},
   "outputs": [],
   "source": [
    "os.makedirs(OUTDIR, exist_ok=True)\n",
    "asset_filename = os.path.join(OUTDIR, FILENAME)\n",
    "if not os.path.exists(asset_filename):\n",
    "    assets = fetch('Assets')\n",
    "    asset = assets[0]['Attachments'][0]['url']\n",
    "    with open(asset_filename, 'wb') as dst:\n",
    "        src = requests.get(asset, stream=True).raw\n",
    "        shutil.copyfileobj(src, dst)\n"
   ]
  },
  {
   "cell_type": "code",
   "execution_count": 69,
   "metadata": {},
   "outputs": [
    {
     "data": {
      "text/plain": [
       "2600.71"
      ]
     },
     "execution_count": 69,
     "metadata": {},
     "output_type": "execute_result"
    }
   ],
   "source": [
    "from moviepy.video.io.VideoFileClip import VideoFileClip\n",
    "a = VideoFileClip(asset_filename).audio\n",
    "a.duration"
   ]
  },
  {
   "cell_type": "code",
   "execution_count": 77,
   "metadata": {},
   "outputs": [
    {
     "name": "stderr",
     "output_type": "stream",
     "text": [
      "chunk:  13%|█▎        | 84/640 [00:00<00:00, 838.62it/s, now=None]"
     ]
    },
    {
     "name": "stdout",
     "output_type": "stream",
     "text": [
      "m3-assets/0: Introduction.mp3 [{'start': 173, 'Segments': ['rec87KZtPi30jJ1Zl'], 'ID': 'intro', 'end': 202, 'length': 29}]\n",
      "<moviepy.audio.io.AudioFileClip.AudioFileClip object at 0x11db69a10>\n",
      "<moviepy.audio.io.AudioFileClip.AudioFileClip object at 0x11db7fc10> <module 'moviepy.audio.fx.audio_fadein' from '/Users/adam/.pyenv/versions/3.7.8/lib/python3.7/site-packages/moviepy/audio/fx/audio_fadein.py'>\n",
      "MoviePy - Writing audio in m3-assets/0: Introduction.mp3\n"
     ]
    },
    {
     "name": "stderr",
     "output_type": "stream",
     "text": [
      "                                                                    \r"
     ]
    },
    {
     "name": "stdout",
     "output_type": "stream",
     "text": [
      "MoviePy - Done.\n"
     ]
    },
    {
     "name": "stderr",
     "output_type": "stream",
     "text": [
      "chunk:   5%|▌         | 81/1478 [00:00<00:01, 808.42it/s, now=None]"
     ]
    },
    {
     "name": "stdout",
     "output_type": "stream",
     "text": [
      "m3-assets/1: M.F - filling time.mp3 [{'start': 387, 'Segments': ['rec8EVlGn7d2dT4JS'], 'ID': 'MF1', 'Notes': 'x\\n', 'end': 427, 'length': 40}, {'start': 499, 'Segments': ['rec8EVlGn7d2dT4JS'], 'ID': 'MF1.2', 'Notes': 'z', 'end': 526, 'length': 27}]\n",
      "<moviepy.audio.io.AudioFileClip.AudioFileClip object at 0x11db69450>\n",
      "<moviepy.audio.io.AudioFileClip.AudioFileClip object at 0x11db7f790> <module 'moviepy.audio.fx.audio_fadein' from '/Users/adam/.pyenv/versions/3.7.8/lib/python3.7/site-packages/moviepy/audio/fx/audio_fadein.py'>\n",
      "<moviepy.audio.io.AudioFileClip.AudioFileClip object at 0x11db7ff10>\n",
      "<moviepy.audio.io.AudioFileClip.AudioFileClip object at 0x11db8f3d0> <module 'moviepy.audio.fx.audio_fadein' from '/Users/adam/.pyenv/versions/3.7.8/lib/python3.7/site-packages/moviepy/audio/fx/audio_fadein.py'>\n",
      "MoviePy - Writing audio in m3-assets/1: M.F - filling time.mp3\n"
     ]
    },
    {
     "name": "stderr",
     "output_type": "stream",
     "text": [
      "                                                                      \r"
     ]
    },
    {
     "name": "stdout",
     "output_type": "stream",
     "text": [
      "MoviePy - Done.\n"
     ]
    },
    {
     "name": "stderr",
     "output_type": "stream",
     "text": [
      "chunk:   4%|▎         | 76/2073 [00:00<00:02, 758.55it/s, now=None]"
     ]
    },
    {
     "name": "stdout",
     "output_type": "stream",
     "text": [
      "m3-assets/2: M.M - The real issue: Egypt control over the Nile & 11 countries.mp3 [{'start': 499, 'Segments': ['rec0JCD9libgKLFv3'], 'ID': 'MM1.1', 'end': 526, 'length': 27}, {'start': 558, 'Segments': ['rec0JCD9libgKLFv3'], 'ID': 'MM1.2', 'end': 625, 'length': 67}]\n",
      "<moviepy.audio.io.AudioFileClip.AudioFileClip object at 0x11daed4d0>\n",
      "<moviepy.audio.io.AudioFileClip.AudioFileClip object at 0x11db7f390> <module 'moviepy.audio.fx.audio_fadein' from '/Users/adam/.pyenv/versions/3.7.8/lib/python3.7/site-packages/moviepy/audio/fx/audio_fadein.py'>\n",
      "<moviepy.audio.io.AudioFileClip.AudioFileClip object at 0x11cf099d0>\n",
      "<moviepy.audio.io.AudioFileClip.AudioFileClip object at 0x11db23fd0> <module 'moviepy.audio.fx.audio_fadein' from '/Users/adam/.pyenv/versions/3.7.8/lib/python3.7/site-packages/moviepy/audio/fx/audio_fadein.py'>\n",
      "MoviePy - Writing audio in m3-assets/2: M.M - The real issue: Egypt control over the Nile & 11 countries.mp3\n"
     ]
    },
    {
     "name": "stderr",
     "output_type": "stream",
     "text": [
      "                                                                      \r"
     ]
    },
    {
     "name": "stdout",
     "output_type": "stream",
     "text": [
      "MoviePy - Done.\n"
     ]
    },
    {
     "name": "stderr",
     "output_type": "stream",
     "text": [
      "chunk:   5%|▌         | 154/3021 [00:00<00:01, 1466.75it/s, now=None]"
     ]
    },
    {
     "name": "stdout",
     "output_type": "stream",
     "text": [
      "m3-assets/3: W.D - why is it coming to a head now & Drought and climate.mp3 [{'start': 635, 'Segments': ['recQCSe9OBmE1uS0E'], 'ID': 'WD1.1', 'end': 730, 'length': 95}, {'start': 748, 'Segments': ['recQCSe9OBmE1uS0E'], 'ID': 'WD1.2', 'end': 790, 'length': 42}]\n",
      "<moviepy.audio.io.AudioFileClip.AudioFileClip object at 0x11da16e10>\n",
      "<moviepy.audio.io.AudioFileClip.AudioFileClip object at 0x11db7fc10> <module 'moviepy.audio.fx.audio_fadein' from '/Users/adam/.pyenv/versions/3.7.8/lib/python3.7/site-packages/moviepy/audio/fx/audio_fadein.py'>\n",
      "<moviepy.audio.io.AudioFileClip.AudioFileClip object at 0x11db69e10>\n",
      "<moviepy.audio.io.AudioFileClip.AudioFileClip object at 0x11db69ad0> <module 'moviepy.audio.fx.audio_fadein' from '/Users/adam/.pyenv/versions/3.7.8/lib/python3.7/site-packages/moviepy/audio/fx/audio_fadein.py'>\n",
      "MoviePy - Writing audio in m3-assets/3: W.D - why is it coming to a head now & Drought and climate.mp3\n"
     ]
    },
    {
     "name": "stderr",
     "output_type": "stream",
     "text": [
      "                                                                      \r"
     ]
    },
    {
     "name": "stdout",
     "output_type": "stream",
     "text": [
      "MoviePy - Done.\n"
     ]
    },
    {
     "name": "stderr",
     "output_type": "stream",
     "text": [
      "chunk:   3%|▎         | 80/2669 [00:00<00:03, 798.74it/s, now=None]"
     ]
    },
    {
     "name": "stdout",
     "output_type": "stream",
     "text": [
      "m3-assets/4: M.S - the role of Sudan & negotiations, not war.mp3 [{'start': 898, 'Segments': ['rec1bnvXnTYogDos2'], 'ID': 'MS1.1', 'end': 974, 'length': 76}, {'start': 977, 'Segments': ['rec1bnvXnTYogDos2'], 'ID': 'MS1.2', 'end': 1022, 'length': 45}]\n",
      "<moviepy.audio.io.AudioFileClip.AudioFileClip object at 0x11da16690>\n",
      "<moviepy.audio.io.AudioFileClip.AudioFileClip object at 0x11db69990> <module 'moviepy.audio.fx.audio_fadein' from '/Users/adam/.pyenv/versions/3.7.8/lib/python3.7/site-packages/moviepy/audio/fx/audio_fadein.py'>\n",
      "<moviepy.audio.io.AudioFileClip.AudioFileClip object at 0x11db8f490>\n",
      "<moviepy.audio.io.AudioFileClip.AudioFileClip object at 0x11db8f750> <module 'moviepy.audio.fx.audio_fadein' from '/Users/adam/.pyenv/versions/3.7.8/lib/python3.7/site-packages/moviepy/audio/fx/audio_fadein.py'>\n",
      "MoviePy - Writing audio in m3-assets/4: M.S - the role of Sudan & negotiations, not war.mp3\n"
     ]
    },
    {
     "name": "stderr",
     "output_type": "stream",
     "text": [
      "                                                                      \r"
     ]
    },
    {
     "name": "stdout",
     "output_type": "stream",
     "text": [
      "MoviePy - Done.\n"
     ]
    },
    {
     "name": "stderr",
     "output_type": "stream",
     "text": [
      "chunk:  10%|█         | 72/706 [00:00<00:00, 719.44it/s, now=None]"
     ]
    },
    {
     "name": "stdout",
     "output_type": "stream",
     "text": [
      "m3-assets/4: M.S - 22B cube.mp3 [{'start': 1302, 'Segments': ['recioLkpwMwfTdmyv'], 'ID': 'MS2', 'end': 1334, 'length': 32}]\n",
      "<moviepy.audio.io.AudioFileClip.AudioFileClip object at 0x11db7fa10>\n",
      "<moviepy.audio.io.AudioFileClip.AudioFileClip object at 0x11da16a90> <module 'moviepy.audio.fx.audio_fadein' from '/Users/adam/.pyenv/versions/3.7.8/lib/python3.7/site-packages/moviepy/audio/fx/audio_fadein.py'>\n",
      "MoviePy - Writing audio in m3-assets/4: M.S - 22B cube.mp3\n"
     ]
    },
    {
     "name": "stderr",
     "output_type": "stream",
     "text": [
      "                                                                    "
     ]
    },
    {
     "name": "stdout",
     "output_type": "stream",
     "text": [
      "MoviePy - Done.\n"
     ]
    },
    {
     "name": "stderr",
     "output_type": "stream",
     "text": [
      "\r"
     ]
    }
   ],
   "source": [
    "from moviepy.audio.AudioClip import CompositeAudioClip\n",
    "import moviepy.audio.fx.all as afx\n",
    "import moviepy.editor as editor\n",
    "\n",
    "\n",
    "segments = fetch('Segment')\n",
    "for segment in segments:\n",
    "    out_filename = os.path.join(OUTDIR, f\"{segment['Title']}.mp3\")\n",
    "    timestamps = [fetch('AudioTimestamps', rid) for rid in segment['AudioTimestamps']]\n",
    "    timestamps = [t for t in timestamps if t['length']]\n",
    "    print(out_filename, timestamps)\n",
    "    clips = []\n",
    "    for timestamp in timestamps:\n",
    "        clip = a.copy()\n",
    "        print(clip)\n",
    "        clip = clip.subclip(timestamp['start'], timestamp['end'])\n",
    "        print(clip, afx.fx.audio_fadein)\n",
    "        clip = clip.fx( afx.audio_fadein, 0.5)\\\n",
    "                   .fx( afx.audio_fadeout, 0.5)\n",
    "        clips.append(clip)\n",
    "    clip = editor.concatenate_audioclips(clips)\n",
    "    clip.write_audiofile(out_filename)\n",
    "    "
   ]
  },
  {
   "cell_type": "code",
   "execution_count": 78,
   "metadata": {},
   "outputs": [
    {
     "name": "stdout",
     "output_type": "stream",
     "text": [
      "On branch master\n",
      "Your branch is up to date with 'origin/master'.\n",
      "\n",
      "Changes to be committed:\n",
      "  (use \"git restore --staged <file>...\" to unstage)\n",
      "\tnew file:   m3-assets/0: Introduction.mp3\n",
      "\tnew file:   m3-assets/1: M.F - filling time.mp3\n",
      "\tnew file:   m3-assets/2: M.M - The real issue: Egypt control over the Nile & 11 countries.mp3\n",
      "\tnew file:   m3-assets/3: W.D - why is it coming to a head now & Drought and climate.mp3\n",
      "\tnew file:   m3-assets/4: M.S - 22B cube.mp3\n",
      "\tnew file:   m3-assets/4: M.S - the role of Sudan & negotiations, not war.mp3\n",
      "\tnew file:   m3-assets/asset.mp4\n",
      "\n",
      "Untracked files:\n",
      "  (use \"git add <file>...\" to include in what will be committed)\n",
      "\t.ipynb_checkpoints/\n",
      "\t.vscode/\n",
      "\tExtractAudioFiles.ipynb\n",
      "\n"
     ]
    }
   ],
   "source": [
    "%%bash\n",
    "git add m3-assets/*mp3\n",
    "git status"
   ]
  },
  {
   "cell_type": "code",
   "execution_count": null,
   "metadata": {},
   "outputs": [],
   "source": []
  }
 ],
 "metadata": {
  "kernelspec": {
   "display_name": "Python 3",
   "language": "python",
   "name": "python3"
  },
  "language_info": {
   "codemirror_mode": {
    "name": "ipython",
    "version": 3
   },
   "file_extension": ".py",
   "mimetype": "text/x-python",
   "name": "python",
   "nbconvert_exporter": "python",
   "pygments_lexer": "ipython3",
   "version": "3.7.8"
  }
 },
 "nbformat": 4,
 "nbformat_minor": 4
}
